{
 "cells": [
  {
   "cell_type": "markdown",
   "metadata": {},
   "source": [
    "シニョリン(chignolin)とは、2004年に、産業技術総合研究所が創製した蛋白質。10個のアミノ酸からできている。"
   ]
  },
  {
   "cell_type": "code",
   "execution_count": null,
   "metadata": {},
   "outputs": [],
   "source": [
    "import numpy as np\n",
    "from IPython.display import Image, display_png"
   ]
  },
  {
   "cell_type": "markdown",
   "metadata": {},
   "source": [
    "### シニョリンのトラジェクトリ を用いたDKFを行う\n",
    "シニョリンでは、特徴量として重原子間距離を抽出します \n",
    "\n",
    "事前にmsmbuilderをインストール"
   ]
  },
  {
   "cell_type": "code",
   "execution_count": 3,
   "metadata": {},
   "outputs": [
    {
     "name": "stdout",
     "output_type": "stream",
     "text": [
      "/opt/anaconda3/lib/python3.7/site-packages/sklearn/externals/joblib/__init__.py:15: FutureWarning: sklearn.externals.joblib is deprecated in 0.21 and will be removed in 0.23. Please import this functionality directly from joblib, which can be installed with: pip install joblib. If this warning is raised when loading pickled models, you may need to re-serialize those models with scikit-learn 0.21+.\n",
      "  warnings.warn(msg, category=FutureWarning)\n",
      "Traceback (most recent call last):\n",
      "  File \"make_dataset/chignolin/make_data_contact.py\", line 22, in <module>\n",
      "    topology = md.load(name + \"/\" + name + \".gro\").topology\n",
      "  File \"/opt/anaconda3/lib/python3.7/site-packages/mdtraj/core/trajectory.py\", line 426, in load\n",
      "    _assert_files_exist(filename_or_filenames)\n",
      "  File \"/opt/anaconda3/lib/python3.7/site-packages/mdtraj/core/trajectory.py\", line 99, in _assert_files_exist\n",
      "    raise IOError('No such file: %s' % fn)\n",
      "OSError: No such file: 0_31410/0_31410.gro\n"
     ]
    }
   ],
   "source": [
    "!python make_dataset/chignolin/make_data_contact.py"
   ]
  },
  {
   "cell_type": "code",
   "execution_count": null,
   "metadata": {},
   "outputs": [],
   "source": []
  }
 ],
 "metadata": {
  "kernelspec": {
   "display_name": "Python 3",
   "language": "python",
   "name": "python3"
  },
  "language_info": {
   "codemirror_mode": {
    "name": "ipython",
    "version": 3
   },
   "file_extension": ".py",
   "mimetype": "text/x-python",
   "name": "python",
   "nbconvert_exporter": "python",
   "pygments_lexer": "ipython3",
   "version": "3.7.6"
  }
 },
 "nbformat": 4,
 "nbformat_minor": 2
}
