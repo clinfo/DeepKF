{
 "cells": [
  {
   "cell_type": "markdown",
   "id": "23151024",
   "metadata": {},
   "source": [
    "各関数を実行できるようにするために、ノートブックで逐一確認しながら進めます。  \n",
    "最終的に実行したいのは、  \n",
    "```\n",
    ". run_sample.sh  \n",
    "```\n",
    "です。  \n",
    "その中身は、  \n",
    "```\n",
    "1. python dmm.py --config sample/config.json --hyperparam sample/hyparam.json --save-config ./model/config.result.json train,test,filter,field\n",
    "2. python script/plot_p.py --config model/config.result.json --hyperparam model/hyparam.result.json all \n",
    "3. python script/plot.py --config model/config.result.json --hyperparam model/hyparam.result.json all\n",
    "4. python script/plot_vec.py model/config.result.json all\n",
    "```\n",
    "です。  \n",
    "1個ずつ見ていきましょう。"
   ]
  },
  {
   "cell_type": "markdown",
   "id": "3424ffba",
   "metadata": {},
   "source": [
    "# dmm.py"
   ]
  },
  {
   "cell_type": "code",
   "execution_count": 13,
   "id": "0f1b09e2",
   "metadata": {},
   "outputs": [
    {
     "name": "stdout",
     "output_type": "stream",
     "text": [
      "main\n",
      "parser =  ArgumentParser(prog='__dmm.py', usage=None, description='Parser processing arguments on dmm.py', formatter_class=<class 'argparse.HelpFormatter'>, conflict_handler='error', add_help=True)\n",
      "parser =  ArgumentParser(prog='__dmm.py', usage=None, description='Parser processing arguments on dmm.py', formatter_class=<class 'argparse.HelpFormatter'>, conflict_handler='error', add_help=True)\n",
      "parser =  ArgumentParser(prog='__dmm.py', usage=None, description='Parser processing arguments on dmm.py', formatter_class=<class 'argparse.HelpFormatter'>, conflict_handler='error', add_help=True)\n",
      "args =  Namespace(config='sample/config.json', hyperparam='sample/hyparam.json', save_config='./model/config.result.json')\n",
      "args.config =  sample/config.json\n",
      "args.hyperparam =  sample/hyparam.json\n",
      "args.save_config =  ./model/config.result.json\n"
     ]
    }
   ],
   "source": [
    "%run __dmm.py --config sample/config.json --hyperparam sample/hyparam.json --save-config ./model/config.result.json"
   ]
  },
  {
   "cell_type": "code",
   "execution_count": 15,
   "id": "43eb9eda",
   "metadata": {},
   "outputs": [],
   "source": [
    "a = dict()\n",
    "a[\"tt\"]=1"
   ]
  },
  {
   "cell_type": "code",
   "execution_count": 18,
   "id": "b288c3a0",
   "metadata": {},
   "outputs": [
    {
     "data": {
      "text/plain": [
       "1"
      ]
     },
     "execution_count": 18,
     "metadata": {},
     "output_type": "execute_result"
    }
   ],
   "source": [
    "a[\"tt\"]"
   ]
  },
  {
   "cell_type": "code",
   "execution_count": null,
   "id": "79a0654f",
   "metadata": {},
   "outputs": [],
   "source": []
  }
 ],
 "metadata": {
  "kernelspec": {
   "display_name": "Python 3",
   "language": "python",
   "name": "python3"
  },
  "language_info": {
   "codemirror_mode": {
    "name": "ipython",
    "version": 3
   },
   "file_extension": ".py",
   "mimetype": "text/x-python",
   "name": "python",
   "nbconvert_exporter": "python",
   "pygments_lexer": "ipython3",
   "version": "3.8.5"
  },
  "toc": {
   "base_numbering": 1,
   "nav_menu": {},
   "number_sections": true,
   "sideBar": true,
   "skip_h1_title": false,
   "title_cell": "Table of Contents",
   "title_sidebar": "Contents",
   "toc_cell": false,
   "toc_position": {},
   "toc_section_display": true,
   "toc_window_display": false
  }
 },
 "nbformat": 4,
 "nbformat_minor": 5
}
