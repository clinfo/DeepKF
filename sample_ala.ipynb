{
 "cells": [
  {
   "cell_type": "markdown",
   "metadata": {},
   "source": [
    "ジペプチドには2つの構造異性体がある[要調査]違うっぽい\n",
    "折れてるか折れてないかの2種類"
   ]
  },
  {
   "cell_type": "markdown",
   "metadata": {},
   "source": [
    "## alanine dipeptid trajectory"
   ]
  },
  {
   "cell_type": "markdown",
   "metadata": {},
   "source": [
    "- 事前に`conda install -c conda-forge mdtraj`でmdtrajをインストールしておく.\n",
    "- make_dataset/alanine/make_data_ala.py の24,25行目を編集\n",
    "```Python\n",
    "     fname1_list = ['../trajectory-'+str(i)+'.dcd' for i in range(2, 9)]   \n",
    "     fname2_list = ['../trajectory-'+str(g)+'.xtc' for g in range(1, 6)]   \n",
    "```"
   ]
  },
  {
   "cell_type": "code",
   "execution_count": 9,
   "metadata": {},
   "outputs": [
    {
     "name": "stdout",
     "output_type": "stream",
     "text": [
      "Traceback (most recent call last):\r\n",
      "  File \"make_dataset/alanine/make_data_ala.py\", line 29, in <module>\r\n",
      "    angles = get_angles_dcd(\"../trajectory-1.dcd\")\r\n",
      "  File \"make_dataset/alanine/make_data_ala.py\", line 10, in get_angles_dcd\r\n",
      "    traj = md.load_dcd(fname1, top=\"ala2.pdb\")\r\n",
      "  File \"mdtraj/formats/dcd/dcd.pyx\", line 131, in mdtraj.formats.dcd.load_dcd\r\n",
      "  File \"/opt/anaconda3/lib/python3.7/site-packages/mdtraj/core/trajectory.py\", line 169, in _parse_topology\r\n",
      "    _traj = load_frame(top, 0, **kwargs)\r\n",
      "  File \"/opt/anaconda3/lib/python3.7/site-packages/mdtraj/core/trajectory.py\", line 307, in load_frame\r\n",
      "    _assert_files_exist(filename)\r\n",
      "  File \"/opt/anaconda3/lib/python3.7/site-packages/mdtraj/core/trajectory.py\", line 99, in _assert_files_exist\r\n",
      "    raise IOError('No such file: %s' % fn)\r\n",
      "OSError: No such file: ala2.pdb\r\n"
     ]
    }
   ],
   "source": [
    "!python make_dataset/alanine/make_data_ala.py"
   ]
  },
  {
   "cell_type": "code",
   "execution_count": 8,
   "metadata": {},
   "outputs": [],
   "source": [
    "import mdtraj"
   ]
  },
  {
   "cell_type": "code",
   "execution_count": null,
   "metadata": {},
   "outputs": [],
   "source": []
  }
 ],
 "metadata": {
  "kernelspec": {
   "display_name": "Python 3",
   "language": "python",
   "name": "python3"
  },
  "language_info": {
   "codemirror_mode": {
    "name": "ipython",
    "version": 3
   },
   "file_extension": ".py",
   "mimetype": "text/x-python",
   "name": "python",
   "nbconvert_exporter": "python",
   "pygments_lexer": "ipython3",
   "version": "3.7.6"
  }
 },
 "nbformat": 4,
 "nbformat_minor": 2
}
