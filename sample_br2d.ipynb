{
 "cells": [
  {
   "cell_type": "markdown",
   "metadata": {},
   "source": [
    "# folding potential上を動く2Dブラウン運動"
   ]
  },
  {
   "cell_type": "markdown",
   "metadata": {},
   "source": [
    "## Protein-folding \n",
    "タンパク質が特定の立体構造に折りたたまれる現象\n",
    "\n",
    "ここでは$x\\in\\mathrm{R}^2$とし, $r=|x|$とする.\n",
    "系の従うポテンシャルを\n",
    "$$\n",
    "    U(r)=\n",
    "        \\begin{cases}\n",
    "        -2.5(r-3)^2\\quad r<3\\\\\n",
    "        0.5(r-3)^3-(r-3)^2\\quad r\\geq3\n",
    "        \\end{cases}\n",
    "$$\n",
    "と仮定する."
   ]
  },
  {
   "cell_type": "code",
   "execution_count": 1,
   "metadata": {
    "collapsed": true
   },
   "outputs": [
    {
     "name": "stdout",
     "output_type": "stream",
     "text": [
      "[[ 0.659814   -0.12411978]\r\n",
      " [-0.45215468  0.248033  ]\r\n",
      " [ 0.87583337 -0.35884691]\r\n",
      " ...\r\n",
      " [-0.36388923 -0.47085909]\r\n",
      " [ 1.07543582  0.14048146]\r\n",
      " [ 1.15950176  0.5042985 ]]\r\n",
      "(1000001, 2)\r\n",
      "(1000, 1000, 2)\r\n"
     ]
    }
   ],
   "source": [
    "!python ./make_dataset/brown_model/make_data_brown.py"
   ]
  },
  {
   "cell_type": "code",
   "execution_count": 2,
   "metadata": {},
   "outputs": [],
   "source": [
    "!mv folding_2d_traj.npy ./sample_br2d/dataset/folding_2d_traj.npy"
   ]
  },
  {
   "cell_type": "markdown",
   "metadata": {},
   "source": [
    "folding_energy.pngを表示. \n",
    "- ブラウン運動にしたがって生成されたデータ点 $x$ と　対応するポテンシャルエネルギー の関係\n",
    "- 横軸が$r$ で, 縦軸が $U(r)$. "
   ]
  },
  {
   "cell_type": "code",
   "execution_count": 3,
   "metadata": {},
   "outputs": [
    {
     "data": {
      "image/png": "[encoded data removed]"
     },
     "metadata": {},
     "output_type": "display_data"
    }
   ],
   "source": [
    "from IPython.display import Image, display_png\n",
    "display_png(Image(\"folding_energy.png\"))"
   ]
  },
  {
   "cell_type": "code",
   "execution_count": 4,
   "metadata": {},
   "outputs": [
    {
     "name": "stdout",
     "output_type": "stream",
     "text": [
      "(1000, 1000, 2)\n",
      "[[[-0.45215468  0.248033  ]\n",
      "  [ 0.87583337 -0.35884691]\n",
      "  [-0.33779758  0.77778723]\n",
      "  ...\n",
      "  [-0.46391083  1.05273905]\n",
      "  [ 0.8538971   0.27376298]\n",
      "  [ 0.23040763  0.15554435]]\n",
      "\n",
      " [[-0.93720165 -0.25323868]\n",
      "  [-0.43206903 -0.50053663]\n",
      "  [ 0.3267098   0.26789032]\n",
      "  ...\n",
      "  [ 0.06009309 -0.27532707]\n",
      "  [ 0.47186127  0.91593161]\n",
      "  [ 0.39833053  0.4888813 ]]\n",
      "\n",
      " [[-0.38128006  0.63720199]\n",
      "  [ 0.45563312 -0.0674532 ]\n",
      "  [-1.16434148  0.22052602]\n",
      "  ...\n",
      "  [-1.771225    0.62467123]\n",
      "  [-1.13629967  0.01155772]\n",
      "  [-0.14946466 -0.27395123]]\n",
      "\n",
      " ...\n",
      "\n",
      " [[ 1.35906528  0.97552549]\n",
      "  [ 1.0793157   1.24160545]\n",
      "  [ 0.50756688  0.87931947]\n",
      "  ...\n",
      "  [-0.34333816 -0.42183736]\n",
      "  [-0.0145508   0.92392505]\n",
      "  [-0.16888253 -0.28989471]]\n",
      "\n",
      " [[ 1.47819125  0.50636202]\n",
      "  [ 1.24512629  0.85697579]\n",
      "  [ 0.82907096 -0.49514934]\n",
      "  ...\n",
      "  [ 1.00181788 -0.06629742]\n",
      "  [-0.6768746  -0.46384667]\n",
      "  [ 0.86729013 -0.57120471]]\n",
      "\n",
      " [[ 0.52881854 -0.23123228]\n",
      "  [-0.70336819 -0.11314213]\n",
      "  [ 0.24475845 -0.22942844]\n",
      "  ...\n",
      "  [-0.36388923 -0.47085909]\n",
      "  [ 1.07543582  0.14048146]\n",
      "  [ 1.15950176  0.5042985 ]]]\n"
     ]
    }
   ],
   "source": [
    "import numpy as np\n",
    "traj=np.load(\"sample_br2d/dataset/folding_2d_traj.npy\")\n",
    "print(traj.shape)\n",
    "print(traj)"
   ]
  },
  {
   "cell_type": "code",
   "execution_count": 5,
   "metadata": {},
   "outputs": [
    {
     "name": "stdout",
     "output_type": "stream",
     "text": [
      "{\r",
      "\r\n",
      "    \"batch_size\": 100,\r",
      "\r\n",
      "    \"data_test_npy\": \"sample_br2d/dataset/folding_2d_traj.npy\",\r",
      "\r\n",
      "    \"data_train_npy\": \"sample_br2d/dataset/folding_2d_traj.npy\",\r",
      "\r\n",
      "    \"epoch\": 400,\r",
      "\r\n",
      "    \"load_model\": \"\",\r",
      "\r\n",
      "    \"save_model_path\":\"dummy\",\r",
      "\r\n",
      "    \"patience\": 0,\r",
      "\r\n",
      "    \"save_result_test\": \"dummy\",\r",
      "\r\n",
      "    \"save_result_train\": \"dummy\",\r",
      "\r\n",
      "    \"train_test_ratio\": [\r",
      "\r\n",
      "        0.8,\r",
      "\r\n",
      "        0.2\r",
      "\r\n",
      "    ],\r",
      "\r\n",
      "    \"alpha\": 0.1,\r",
      "\r\n",
      "    \"batch_size\": 100,\r",
      "\r\n",
      "    \"dim\": 2\r",
      "\r\n",
      "}\r",
      "\r\n",
      "\r",
      "\r\n"
     ]
    }
   ],
   "source": [
    "!cat ./sample_br2d/config_br2d.json"
   ]
  },
  {
   "cell_type": "code",
   "execution_count": 6,
   "metadata": {},
   "outputs": [
    {
     "name": "stdout",
     "output_type": "stream",
     "text": [
      "{\r\n",
      "    \"emission_internal_layers\": [\r\n",
      "        {\r\n",
      "            \"name\": \"fc\",\r\n",
      "            \"dim_output\": 32\r\n",
      "        }\r\n",
      "    ],\r\n",
      "\t\"transition_internal_layers\": [\r\n",
      "        {\r\n",
      "            \"name\": \"fc\"\r\n",
      "        }\r\n",
      "    ],\r\n",
      "    \"variational_internal_layers\": [\r\n",
      "        {\r\n",
      "            \"name\": \"lstm\"\r\n",
      "        },\r\n",
      "        {\r\n",
      "            \"name\": \"fc\"\r\n",
      "        }\r\n",
      "    ],\r\n",
      "    \"potential_internal_layers\": [\r\n",
      "        {\r\n",
      "            \"name\": \"fc\"\r\n",
      "        }\r\n",
      "    ],\r\n",
      "    \"evaluation\": {\r\n",
      "        \"all_costs\": [\r\n",
      "            0.0,\r\n",
      "            0.0,\r\n",
      "            0.0\r\n",
      "        ],\r\n",
      "        \"cost\": 0.0,\r\n",
      "        \"error\": 0.0,\r\n",
      "        \"validation_all_costs\": [\r\n",
      "            0.0,\r\n",
      "            0.0,\r\n",
      "            0.0\r\n",
      "        ],\r\n",
      "        \"validation_cost\": 0.0\r\n",
      "    },\r\n",
      "    \"evaluation_output\": \"sample_br2d/model/hyparam.result.json\",\r\n",
      "    \"plot_path\": \"sample_br2d/model/plot\",\r\n",
      "    \"save_model_path\": \"sample_br2d/model/model\",\r\n",
      "    \"save_result_filter\": \"sample_br2d/model/result/filter.jbl\",\r\n",
      "    \"save_result_test\": \"sample_br2d/model/result/test.jbl\",\r\n",
      "    \"save_result_train\": \"sample_br2d/model/result/train.jbl\",\r\n",
      "    \"sampling_type\":\"normal\",\r\n",
      "    \"emission_type\":\"normal\",\r\n",
      "    \"state_type\":\"normal\",\r\n",
      "    \"dynamics_type\":\"distribution\",\r\n",
      "    \"pfilter_type\":\"trained_dynamics\",\r\n",
      "    \"simulation_path\": \"sample_br2d/model/sim\",\r\n",
      "    \"potential_enabled\": true,\r\n",
      "    \"potential_grad_transition_enabled\": false,\r\n",
      "    \"potential_nn_enabled\": false,\r\n",
      "    \"save_model\": \"sample_br2d/model/model/model.last.ckpt\",\r\n",
      "    \"load_model\": \"sample_br2d/model/model/model.last.ckpt\"\r\n",
      "}\r\n"
     ]
    }
   ],
   "source": [
    "!cat ./sample_br2d/hyparam_br2d.json"
   ]
  },
  {
   "cell_type": "code",
   "execution_count": 7,
   "metadata": {},
   "outputs": [],
   "source": [
    "!mkdir -p sample_br2d/model\n"
   ]
  },
  {
   "cell_type": "code",
   "execution_count": 8,
   "metadata": {},
   "outputs": [
    {
     "name": "stdout",
     "output_type": "stream",
     "text": [
      "WARNING:tensorflow:From /opt/anaconda3/lib/python3.7/site-packages/dmm/dmm.py:2072: The name tf.Session is deprecated. Please use tf.compat.v1.Session instead.\n",
      "\n",
      "2020-03-14 13:51:09.092578: I tensorflow/core/platform/cpu_feature_guard.cc:145] This TensorFlow binary is optimized with Intel(R) MKL-DNN to use the following CPU instructions in performance critical operations:  SSE4.1 SSE4.2 AVX AVX2 FMA\n",
      "To enable them in non-MKL-DNN operations, rebuild TensorFlow with the appropriate compiler flags.\n",
      "2020-03-14 13:51:09.092814: I tensorflow/core/common_runtime/process_util.cc:115] Creating new thread pool with default inter op setting: 4. Tune using inter_op_parallelism_threads for best performance.\n",
      "#training data: 800\n",
      "#valid data: 200\n",
      "train_data_size: 800\n",
      "batch_size     : 100\n",
      "n_steps        : 1000\n",
      "dim_emit       : 2\n",
      "WARNING:tensorflow:From /opt/anaconda3/lib/python3.7/site-packages/dmm/dmm_model.py:28: The name tf.placeholder is deprecated. Please use tf.compat.v1.placeholder instead.\n",
      "\n",
      "WARNING:tensorflow:From /opt/anaconda3/lib/python3.7/site-packages/dmm/dmm_model.py:285: The name tf.variable_scope is deprecated. Please use tf.compat.v1.variable_scope instead.\n",
      "\n",
      "WARNING:tensorflow:\n",
      "The TensorFlow contrib module will not be included in TensorFlow 2.0.\n",
      "For more information, please see:\n",
      "  * https://github.com/tensorflow/community/blob/master/rfcs/20180907-contrib-sunset.md\n",
      "  * https://github.com/tensorflow/addons\n",
      "  * https://github.com/tensorflow/io (for I/O related ops)\n",
      "If you depend on functionality not listed there, please file an issue.\n",
      "\n",
      "WARNING:tensorflow:From /opt/anaconda3/lib/python3.7/site-packages/dmm/layers.py:301: LSTMCell.__init__ (from tensorflow.python.ops.rnn_cell_impl) is deprecated and will be removed in a future version.\n",
      "Instructions for updating:\n",
      "This class is equivalent as tf.keras.layers.LSTMCell, and will be replaced by that in Tensorflow 2.0.\n",
      "WARNING:tensorflow:From /opt/anaconda3/lib/python3.7/site-packages/dmm/layers.py:303: static_rnn (from tensorflow.python.ops.rnn) is deprecated and will be removed in a future version.\n",
      "Instructions for updating:\n",
      "Please use `keras.layers.RNN(cell, unroll=True)`, which is equivalent to this API\n",
      "WARNING:tensorflow:From /opt/anaconda3/lib/python3.7/site-packages/tensorflow_core/python/ops/rnn_cell_impl.py:958: Layer.add_variable (from tensorflow.python.keras.engine.base_layer) is deprecated and will be removed in a future version.\n",
      "Instructions for updating:\n",
      "Please use `layer.add_weight` method instead.\n",
      "WARNING:tensorflow:From /opt/anaconda3/lib/python3.7/site-packages/tensorflow_core/python/ops/rnn_cell_impl.py:962: calling Zeros.__init__ (from tensorflow.python.ops.init_ops) with dtype is deprecated and will be removed in a future version.\n",
      "Instructions for updating:\n",
      "Call initializer instance with the dtype argument instead of passing it to the constructor\n",
      "WARNING:tensorflow:From /opt/anaconda3/lib/python3.7/site-packages/dmm/layers.py:60: calling TruncatedNormal.__init__ (from tensorflow.python.ops.init_ops) with dtype is deprecated and will be removed in a future version.\n",
      "Instructions for updating:\n",
      "Call initializer instance with the dtype argument instead of passing it to the constructor\n",
      "WARNING:tensorflow:From /opt/anaconda3/lib/python3.7/site-packages/dmm/layers.py:35: The name tf.get_variable is deprecated. Please use tf.compat.v1.get_variable instead.\n",
      "\n",
      "WARNING:tensorflow:From /opt/anaconda3/lib/python3.7/site-packages/dmm/layers.py:68: The name tf.add_to_collection is deprecated. Please use tf.compat.v1.add_to_collection instead.\n",
      "\n",
      "WARNING:tensorflow:From /opt/anaconda3/lib/python3.7/site-packages/dmm/layers.py:63: calling Constant.__init__ (from tensorflow.python.ops.init_ops) with dtype is deprecated and will be removed in a future version.\n",
      "Instructions for updating:\n",
      "Call initializer instance with the dtype argument instead of passing it to the constructor\n",
      "WARNING:tensorflow:From /opt/anaconda3/lib/python3.7/site-packages/dmm/layers.py:375: The name tf.get_variable_scope is deprecated. Please use tf.compat.v1.get_variable_scope instead.\n",
      "\n",
      "=== potential loss: potential points\n",
      "WARNING:tensorflow:From /opt/anaconda3/lib/python3.7/site-packages/dmm/dmm_model.py:1208: The name tf.log is deprecated. Please use tf.math.log instead.\n",
      "\n",
      "[<tf.Tensor 'Mean:0' shape=() dtype=float32>, <tf.Tensor 'mul_5:0' shape=<unknown> dtype=float32>, <tf.Tensor 'Mean_2:0' shape=() dtype=float32>, <tf.Tensor 'Mean_3:0' shape=() dtype=float32>]\n",
      "WARNING:tensorflow:From /opt/anaconda3/lib/python3.7/site-packages/dmm/dmm_model.py:1374: The name tf.get_collection is deprecated. Please use tf.compat.v1.get_collection instead.\n",
      "\n",
      "WARNING:tensorflow:From /opt/anaconda3/lib/python3.7/site-packages/dmm/dmm.py:505: The name tf.GraphKeys is deprecated. Please use tf.compat.v1.GraphKeys instead.\n",
      "\n",
      "WARNING:tensorflow:From /opt/anaconda3/lib/python3.7/site-packages/dmm/dmm.py:507: The name tf.train.AdamOptimizer is deprecated. Please use tf.compat.v1.train.AdamOptimizer instead.\n",
      "\n",
      "WARNING:tensorflow:From /opt/anaconda3/lib/python3.7/site-packages/tensorflow_core/python/ops/math_grad.py:1375: where (from tensorflow.python.ops.array_ops) is deprecated and will be removed in a future version.\n",
      "Instructions for updating:\n",
      "Use tf.where in 2.0, which has the same broadcast rule as np.where\n",
      "## emission variables\n",
      "emission_var/em_fc0/weights:0\n",
      "emission_var/em_fc0/biases:0\n",
      "emission_var/em_fc_mean/weights:0\n",
      "emission_var/em_fc_mean/biases:0\n",
      "emission_var/em_fc_cov/weights:0\n",
      "emission_var/em_fc_cov/biases:0\n",
      "## variational dist. variables\n",
      "variational_dist_var/vd_lstm0/rnn/lstm_cell/kernel:0\n",
      "variational_dist_var/vd_lstm0/rnn/lstm_cell/bias:0\n",
      "variational_dist_var/vd_fc1/weights:0\n",
      "variational_dist_var/vd_fc1/biases:0\n",
      "variational_dist_var/vd_fc_mu/weights:0\n",
      "variational_dist_var/vd_fc_mu/biases:0\n",
      "variational_dist_var/vd_fc_cov/weights:0\n",
      "variational_dist_var/vd_fc_cov/biases:0\n",
      "## transition variables\n",
      "transition_var/tr_fc0/weights:0\n",
      "transition_var/tr_fc0/biases:0\n",
      "transition_var/vd_fc_mu/weights:0\n",
      "transition_var/vd_fc_mu/biases:0\n",
      "transition_var/vd_fc_cov/weights:0\n",
      "transition_var/vd_fc_cov/biases:0\n",
      "## potential variables\n",
      "## label variables\n",
      "WARNING:tensorflow:From /opt/anaconda3/lib/python3.7/site-packages/dmm/dmm.py:511: The name tf.train.Saver is deprecated. Please use tf.compat.v1.train.Saver instead.\n",
      "\n",
      "WARNING:tensorflow:From /opt/anaconda3/lib/python3.7/site-packages/dmm/dmm.py:513: The name tf.global_variables_initializer is deprecated. Please use tf.compat.v1.global_variables_initializer instead.\n",
      "\n",
      "WARNING:tensorflow:From /opt/anaconda3/lib/python3.7/site-packages/dmm/dmm.py:333: The name tf.local_variables_initializer is deprecated. Please use tf.compat.v1.local_variables_initializer instead.\n",
      "\n",
      "epoch 0, training cost 60.394 (error=0.0107383), validation cost 60.3363 (error=0.0107176)\n",
      "epoch 10, training cost 58.1846 (error=0.0107492), validation cost 58.1672 (error=0.0107379)\n",
      "epoch 20, training cost 58.1558 (error=0.0107389), validation cost 58.1132 (error=0.0107156)\n",
      "epoch 30, training cost 58.1529 (error=0.0107372), validation cost 58.117 (error=0.0107166)\n",
      "epoch 40, training cost 46.4608 (error=0.0107189), validation cost 46.3625 (error=0.0106936)\n",
      "WARNING:tensorflow:From /opt/anaconda3/lib/python3.7/site-packages/tensorflow_core/python/training/saver.py:963: remove_checkpoint (from tensorflow.python.training.checkpoint_management) is deprecated and will be removed in a future version.\n",
      "Instructions for updating:\n",
      "Use standard file APIs to delete files with this prefix.\n",
      "epoch 50, training cost 45.734 (error=0.0107151), validation cost 45.6398 (error=0.0106796)\n",
      "epoch 60, training cost 45.5639 (error=0.0107177), validation cost 45.4798 (error=0.0106829)\n",
      "epoch 70, training cost 45.482 (error=0.0107143), validation cost 45.4092 (error=0.0107029)\n",
      "epoch 80, training cost 45.4392 (error=0.0107086), validation cost 45.3622 (error=0.0106915)\n",
      "epoch 90, training cost 45.4003 (error=0.0107107), validation cost 45.3261 (error=0.0106889)\n",
      "epoch 100, training cost 45.3859 (error=0.0107096), validation cost 45.2943 (error=0.0106809)\n",
      "epoch 110, training cost 45.3697 (error=0.0107095), validation cost 45.267 (error=0.0106753)\n",
      "epoch 120, training cost 45.3606 (error=0.0107124), validation cost 45.2689 (error=0.0106825)\n"
     ]
    },
    {
     "name": "stdout",
     "output_type": "stream",
     "text": [
      "epoch 130, training cost 45.3558 (error=0.0107124), validation cost 45.2639 (error=0.0106915)\n",
      "epoch 140, training cost 45.3425 (error=0.0107098), validation cost 45.2419 (error=0.0106865)\n",
      "epoch 150, training cost 45.3454 (error=0.0107091), validation cost 45.249 (error=0.0106795)\n",
      "epoch 160, training cost 45.3379 (error=0.0107088), validation cost 45.2457 (error=0.0106799)\n",
      "epoch 170, training cost 45.3295 (error=0.0107077), validation cost 45.2448 (error=0.0106785)\n",
      "epoch 180, training cost 45.3285 (error=0.0107114), validation cost 45.2492 (error=0.0106853)\n",
      "epoch 190, training cost 45.3339 (error=0.0107105), validation cost 45.2446 (error=0.0106827)\n",
      "epoch 200, training cost 45.3277 (error=0.010712), validation cost 45.2347 (error=0.0106883)\n",
      "epoch 210, training cost 45.3243 (error=0.0107079), validation cost 45.2361 (error=0.0106825)\n",
      "epoch 220, training cost 45.3266 (error=0.0107117), validation cost 45.2398 (error=0.0106856)\n",
      "epoch 230, training cost 45.328 (error=0.0107111), validation cost 45.2265 (error=0.0106809)\n",
      "epoch 240, training cost 45.3173 (error=0.0107115), validation cost 45.2427 (error=0.010685)\n",
      "epoch 250, training cost 45.321 (error=0.0107101), validation cost 45.2181 (error=0.0106765)\n",
      "epoch 260, training cost 45.3214 (error=0.01071), validation cost 45.2348 (error=0.0106822)\n",
      "epoch 270, training cost 45.3144 (error=0.0107102), validation cost 45.2449 (error=0.0106749)\n",
      "epoch 280, training cost 45.3108 (error=0.0107113), validation cost 45.2327 (error=0.0106759)\n",
      "epoch 290, training cost 45.3233 (error=0.0107088), validation cost 45.2538 (error=0.0106955)\n",
      "epoch 300, training cost 45.3228 (error=0.0107065), validation cost 45.245 (error=0.0106683)\n",
      "epoch 310, training cost 45.3188 (error=0.0107058), validation cost 45.2192 (error=0.0106704)\n",
      "epoch 320, training cost 45.3113 (error=0.0107115), validation cost 45.2242 (error=0.0106825)\n",
      "epoch 330, training cost 45.3149 (error=0.0107105), validation cost 45.2375 (error=0.0106836)\n",
      "epoch 340, training cost 45.3127 (error=0.0107121), validation cost 45.2132 (error=0.0106829)\n",
      "epoch 350, training cost 45.3021 (error=0.0107069), validation cost 45.2151 (error=0.0106724)\n",
      "epoch 360, training cost 45.3022 (error=0.0107043), validation cost 45.2282 (error=0.010682)\n",
      "epoch 370, training cost 45.3 (error=0.0107055), validation cost 45.2325 (error=0.0106766)\n",
      "epoch 380, training cost 45.3035 (error=0.010709), validation cost 45.2171 (error=0.0106717)\n",
      "epoch 390, training cost 45.3026 (error=0.0107063), validation cost 45.2052 (error=0.010679)\n",
      "[RESULT] training cost 45.3033, validation cost 45.2314, training error 0.010713, validation error 0.0106889\n",
      "[SAVE] sample_br2d/model/model/model.last.ckpt\n",
      "[SAVE] hyperparameter:  sample_br2d/model/hyparam.result.json\n",
      "z_s (800, 1000, 2)\n",
      "z_params (800, 1000, 2) (800, 1000, 2)\n",
      "z_pred_params (800, 1000, 2) (800, 1000, 2)\n",
      "obs_params (800, 1000, 2) (800, 1000, 2)\n",
      "obs_pred_params (800, 1000, 2) (800, 1000, 2)\n",
      "[SAVE] result :  sample_br2d/model/result/train.jbl\n"
     ]
    }
   ],
   "source": [
    "!DMM --config sample_br2d/config_br2d.json\\\n",
    "--hyperparam sample_br2d/hyparam_br2d.json train"
   ]
  }
 ],
 "metadata": {
  "kernelspec": {
   "display_name": "Python 3",
   "language": "python",
   "name": "python3"
  },
  "language_info": {
   "codemirror_mode": {
    "name": "ipython",
    "version": 3
   },
   "file_extension": ".py",
   "mimetype": "text/x-python",
   "name": "python",
   "nbconvert_exporter": "python",
   "pygments_lexer": "ipython3",
   "version": "3.7.6"
  }
 },
 "nbformat": 4,
 "nbformat_minor": 2
}
